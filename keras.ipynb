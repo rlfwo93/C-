{
  "nbformat": 4,
  "nbformat_minor": 0,
  "metadata": {
    "colab": {
      "name": "Untitled14.ipynb",
      "provenance": [],
      "authorship_tag": "ABX9TyPPikE+F/iIB0s6tM2rBvEV",
      "include_colab_link": true
    },
    "kernelspec": {
      "name": "python3",
      "display_name": "Python 3"
    }
  },
  "cells": [
    {
      "cell_type": "markdown",
      "metadata": {
        "id": "view-in-github",
        "colab_type": "text"
      },
      "source": [
        "<a href=\"https://colab.research.google.com/github/rlfwo93/C-/blob/main/keras.ipynb\" target=\"_parent\"><img src=\"https://colab.research.google.com/assets/colab-badge.svg\" alt=\"Open In Colab\"/></a>"
      ]
    },
    {
      "cell_type": "markdown",
      "metadata": {
        "id": "DCQklKrrYgX_"
      },
      "source": [
        "# **케라스란 ?**\n",
        "\n",
        "-  거의 모든 종류의 딥러닝 모델을 간편하게 만들고 훈련시킬 수 있는 파이썬을 위한 딥러닝 프레임워크\n",
        "- 케라스는 여러가지 백엔드 엔진과 연동되는데 그 종류로 텐서플로, theano, Microsoft Cognitive Toolkit이 있다.\n",
        "- 케라스로 작성한 모든 코드는 아무런 변경없이 이런 백엔드 중 하나를 선택해서 실행시킬 수 있다. 대부분의 작업에 텐서플로 백엔드가 기본으로 권장\n",
        "\n",
        "\n",
        "https://backgomc.tistory.com/78"
      ]
    },
    {
      "cell_type": "code",
      "metadata": {
        "id": "UzUpDsbTaof-"
      },
      "source": [
        "#  keras에는 MNIST 데이터셋이 numpy 배열 형태로 포함\n",
        "from keras.datasets import mnist\n",
        "import matplotlib.pyplot as plt\n",
        "%matplotlib inline"
      ],
      "execution_count": null,
      "outputs": []
    },
    {
      "cell_type": "code",
      "metadata": {
        "id": "hjU_wRNzbOIZ",
        "outputId": "08a4d111-19f7-43bf-80f4-7d476ad1fd5c",
        "colab": {
          "base_uri": "https://localhost:8080/",
          "height": 35
        }
      },
      "source": [
        "# use TensorFlow 1.x \n",
        "%tensorflow_version 2.x #현재 텐서플로우 버전이 2.3이기때문에 2.x로 바꿈 \n",
        "import tensorflow as tf\n",
        "print(tf.__version__)"
      ],
      "execution_count": null,
      "outputs": [
        {
          "output_type": "stream",
          "text": [
            "2.3.0\n"
          ],
          "name": "stdout"
        }
      ]
    },
    {
      "cell_type": "code",
      "metadata": {
        "id": "GTmyqqRAcxKC",
        "outputId": "171d1a89-f54e-49f5-b89f-a2eac14a7899",
        "colab": {
          "base_uri": "https://localhost:8080/",
          "height": 53
        }
      },
      "source": [
        "# load dataset\n",
        "(trainX, trainy), (testX, testy) = mnist.load_data()"
      ],
      "execution_count": null,
      "outputs": [
        {
          "output_type": "stream",
          "text": [
            "Downloading data from https://storage.googleapis.com/tensorflow/tf-keras-datasets/mnist.npz\n",
            "11493376/11490434 [==============================] - 0s 0us/step\n"
          ],
          "name": "stdout"
        }
      ]
    }
  ]
}